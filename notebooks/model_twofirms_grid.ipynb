{
 "cells": [
  {
   "cell_type": "code",
   "execution_count": 1,
   "id": "0df046a9-9299-4cb5-ab5e-47ce775afa89",
   "metadata": {},
   "outputs": [],
   "source": [
    "import numpy as np"
   ]
  },
  {
   "cell_type": "code",
   "execution_count": 2,
   "id": "9c3f5f1a-20e1-44be-858c-60a09cba43b8",
   "metadata": {},
   "outputs": [],
   "source": [
    "import matplotlib.pyplot as plt"
   ]
  },
  {
   "cell_type": "markdown",
   "id": "7ab2cc87-e7c6-4161-84d5-e3c8c0762379",
   "metadata": {},
   "source": [
    "Low type probabilities: p_0, p_1, p_2\n",
    "High type probabilitites: q_0, q_1, q_2"
   ]
  },
  {
   "cell_type": "code",
   "execution_count": 3,
   "id": "ca0033f0-91dc-4fea-b2c1-595d4f9ac91b",
   "metadata": {},
   "outputs": [],
   "source": [
    "y1_dom = np.linspace(0,1,1000)\n",
    "y2_dom = np.linspace(0,1,1000)"
   ]
  },
  {
   "cell_type": "code",
   "execution_count": 4,
   "id": "4d9f63f0-8cd4-4307-9796-aeb10e551172",
   "metadata": {},
   "outputs": [],
   "source": [
    "y1_mesh, y2_mesh = np.meshgrid(y1_dom, y2_dom)"
   ]
  },
  {
   "cell_type": "markdown",
   "id": "8f82e0c6-101e-4c98-9fc1-c6dde237898b",
   "metadata": {},
   "source": [
    "##### Low types"
   ]
  },
  {
   "cell_type": "code",
   "execution_count": 5,
   "id": "e48f6340-0ead-46c0-a7f0-0edf15b7bdc2",
   "metadata": {},
   "outputs": [],
   "source": [
    "def compute_equlibrium(prob, s_1, s_2):\n",
    "    \n",
    "    p_0, p_1, p_2, q_0, q_1, q_2 = prob\n",
    "    \n",
    "    u_0_l = y1_mesh * 0\n",
    "    u_1_l = theta_x * ((1 - q_2 - q_0) * 0 + (q_2 + q_0) * y1_mesh) + (1 - theta_x) * ((1 - p_2 - p_0) * y1_mesh/2 + (p_2 + p_0) * y1_mesh) - s_1\n",
    "    u_2_l = theta_x * ((1 - q_1 - q_0) * 0 + (q_1 + q_0) * y2_mesh) + (1 - theta_x) * ((1 - p_1 - p_0) * y2_mesh/2 + (p_1 + p_0) * y2_mesh) - s_2\n",
    "    u_b_l = ((y1_mesh > y2_mesh) * \n",
    "             (theta_x * (q_0 * y1_mesh + q_1 * y2_mesh + q_2 * y1_mesh + (1 - q_0 -q_1 - q_2) * ( 0 )) + \n",
    "              (1 - theta_x) * (p_0 * y1_mesh + p_1 * (y1_mesh / 2 + y2_mesh / 2) + p_2 * (y1_mesh) + (1 - p_0 - p_1 - p_2) * (y1_mesh/2 + y2_mesh/4)) \n",
    "            )\n",
    "             + (y1_mesh <= y2_mesh) * \n",
    "             (theta_x * (q_0 * y2_mesh + q_1 * y2_mesh + q_2 * y1_mesh + (1 - q_0 -q_1 - q_2) * ( 0 )) + \n",
    "              (1 - theta_x) * (p_0 * y2_mesh + p_1 * y2_mesh + p_2 * (y1_mesh / 2 + y2_mesh / 2) + (1 - p_0 - p_1 - p_2) * (y2_mesh/2 + y1_mesh/4)) \n",
    "            )\n",
    "             \n",
    "            ) - s_1 - s_2\n",
    "    \n",
    "    # Stack the matrices into a 3D array\n",
    "    stacked_matrices = np.stack([u_0_l, u_1_l, u_2_l, u_b_l])\n",
    "    \n",
    "    # Find the maximum value across all matrices\n",
    "    max_value = np.max(stacked_matrices, axis = 0)\n",
    "    \n",
    "    # Find the index of the maximum value\n",
    "    max_index = np.argmax(stacked_matrices, axis = 0)\n",
    "    \n",
    "    p_0_n = (max_index == 0).sum()/ max_index.size\n",
    "    p_1_n = (max_index == 1).sum()/ max_index.size\n",
    "    p_2_n = (max_index == 2).sum()/ max_index.size\n",
    "    p_b_n = 1 - p_0_n - p_1_n - p_2_n\n",
    "    \n",
    "    \n",
    "    max_index_cond1 = (max_index + 1) * (y1_mesh > y2_mesh) - 1\n",
    "    \n",
    "    n_c1 = ((max_index_cond1 == 0).sum() + (max_index_cond1 == 1).sum() \n",
    "            + (max_index_cond1 == 2).sum() + (max_index_cond1 == 3).sum()  \n",
    "           )\n",
    "    p_0_c1 = (max_index_cond1 == 0).sum()/n_c1\n",
    "    p_1_c1 = (max_index_cond1 == 1).sum()/n_c1\n",
    "    p_2_c1 = (max_index_cond1 == 2).sum()/n_c1\n",
    "    p_b_c1 = (max_index_cond1 == 3).sum()/n_c1\n",
    "    \n",
    "    \n",
    "    max_index_cond2 = (max_index + 1) * (y1_mesh < y2_mesh) - 1\n",
    "    \n",
    "    n_c2 = ((max_index_cond2 == 0).sum() + (max_index_cond2 == 1).sum() \n",
    "            + (max_index_cond2 == 2).sum() + (max_index_cond2 == 3).sum()  \n",
    "           )\n",
    "    p_0_c2 = (max_index_cond2 == 0).sum()/n_c2\n",
    "    p_1_c2 = (max_index_cond2 == 1).sum()/n_c2\n",
    "    p_2_c2 = (max_index_cond2 == 2).sum()/n_c2\n",
    "    p_b_c2 = (max_index_cond2 == 3).sum()/n_c2\n",
    "    \n",
    "    ##### High types\n",
    "    \n",
    "    u_0_h = y1_mesh * 0\n",
    "    u_1_h = theta_x * ((1 - q_2 - q_0) * y1_mesh/2 + (q_2 + q_0) * y1_mesh) + (1 - theta_x) * y1_mesh - s_1\n",
    "    u_2_h = theta_x * ((1 - q_1 - q_0) * y2_mesh/2 + (q_1 + q_0) * y2_mesh) + (1 - theta_x) * y2_mesh - s_2\n",
    "    u_b_h = ((y1_mesh > y2_mesh) * \n",
    "             (theta_x * (q_0 * y1_mesh  + q_1 * (y1_mesh/2 + y2_mesh/2) + q_2 * y1_mesh + (1 - q_0 -q_1 - q_2) * ( y1_mesh/2 + y2_mesh/4 )) + \n",
    "              (1 - theta_x) * y1_mesh \n",
    "            )\n",
    "             + (y1_mesh <= y2_mesh) * \n",
    "             (theta_x * (q_0 * y2_mesh + q_1 * (y2_mesh/2 + y1_mesh/2) + q_2 * y1_mesh + (1 - q_0 -q_1 - q_2) * ( y2_mesh/2 + y1_mesh/4 )) + \n",
    "              (1 - theta_x) * y2_mesh\n",
    "            )\n",
    "            ) - s_1 - s_2\n",
    "    \n",
    "    # Stack the matrices into a 3D array\n",
    "    stacked_matrices = np.stack([u_0_h, u_1_h, u_2_h, u_b_h])\n",
    "    \n",
    "    # Find the maximum value across all matrices\n",
    "    max_value = np.max(stacked_matrices, axis = 0)\n",
    "    \n",
    "    # Find the index of the maximum value\n",
    "    max_index = np.argmax(stacked_matrices, axis = 0)\n",
    "    \n",
    "    q_0_n = (max_index == 0).sum()/ max_index.size\n",
    "    q_1_n = (max_index == 1).sum()/ max_index.size\n",
    "    q_2_n = (max_index == 2).sum()/ max_index.size\n",
    "    q_b_n = 1 - q_0_n - q_1_n - q_2_n\n",
    "    \n",
    "    # Conditional\n",
    "    \n",
    "    max_index_cond1 = (max_index + 1) * (y1_mesh > y2_mesh) - 1\n",
    "    \n",
    "    n_c1 = ((max_index_cond1 == 0).sum() + (max_index_cond1 == 1).sum() \n",
    "            + (max_index_cond1 == 2).sum() + (max_index_cond1 == 3).sum()  \n",
    "           )\n",
    "    q_0_c1 = (max_index_cond1 == 0).sum()/n_c1\n",
    "    q_1_c1 = (max_index_cond1 == 1).sum()/n_c1\n",
    "    q_2_c1 = (max_index_cond1 == 2).sum()/n_c1\n",
    "    q_b_c1 = (max_index_cond1 == 3).sum()/n_c1\n",
    "    \n",
    "    \n",
    "    max_index_cond2 = (max_index + 1) * (y1_mesh < y2_mesh) - 1\n",
    "    \n",
    "    n_c2 = ((max_index_cond2 == 0).sum() + (max_index_cond2 == 1).sum() \n",
    "            + (max_index_cond2 == 2).sum() + (max_index_cond2 == 3).sum()  \n",
    "           )\n",
    "    q_0_c2 = (max_index_cond2 == 0).sum()/n_c2\n",
    "    q_1_c2 = (max_index_cond2 == 1).sum()/n_c2\n",
    "    q_2_c2 = (max_index_cond2 == 2).sum()/n_c2\n",
    "    q_b_c2 = (max_index_cond2 == 3).sum()/n_c2\n",
    "    \n",
    "    \n",
    "    prob_n = [p_0_n, p_1_n, p_2_n, q_0_n, q_1_n, q_2_n]\n",
    "    \n",
    "    # Probability of being high type conditional on applying to 1 and 2\n",
    "    \n",
    "    h_1 = (theta_x * q_1_n + theta_x * q_b_n) / ( theta_x * q_1_n + (1 - theta_x) * p_1_n + theta_x * q_b_n + (1 - theta_x) * p_b_n)\n",
    "    h_2 = (theta_x * q_2_n + theta_x * q_b_n) / ( theta_x * q_2_n + (1 - theta_x) * p_2_n + theta_x * q_b_n + (1 - theta_x) * p_b_n)\n",
    "    \n",
    "    \n",
    "    # Probability of preferring 1 being low type conditional on applying to both\n",
    "    \n",
    "    f_l = p_b_c1 / ( p_b_c1 + p_b_c2) \n",
    "    \n",
    "    # Probability of preferring 1 being high type conditional on applying to both\n",
    "\n",
    "    if q_b_c1 + q_b_c2 > 0:\n",
    "        f_h = q_b_c1 / ( q_b_c1 + q_b_c2) \n",
    "    else:\n",
    "        f_h = 0\n",
    "\n",
    "\n",
    "    return prob_n, h_1, h_2, f_h"
   ]
  },
  {
   "cell_type": "code",
   "execution_count": 6,
   "id": "9bb2b40b-5f06-4cf3-9654-ee9039b5ae73",
   "metadata": {},
   "outputs": [],
   "source": [
    "def get_profits(theta_x, s_1, s_2,c, prob_init = [1,0,0,1,0,0]):\n",
    "    \n",
    "    distance = 1000\n",
    "\n",
    "    prob = prob_init\n",
    "    \n",
    "    for i in range(100):\n",
    "        prob_n, _, _, _ = compute_equlibrium(prob, s_1, s_2)\n",
    "        distance_n = np.linalg.norm(np.array(prob_n) - np.array(prob))\n",
    "    \n",
    "        # Check if the distance is stucked, since the problem is an approximation, it shall never reach the equilibrium\n",
    "        \n",
    "        if (distance - distance_n < 0.000001):\n",
    "            prob_f = list((np.array(prob) + np.array(prob_n))/2)\n",
    "            break\n",
    "        else:\n",
    "            prob = prob_n\n",
    "            distance = distance_n\n",
    "        \n",
    "    \n",
    "    prob_n, h_1, h_2, f_h = compute_equlibrium(prob, s_1, s_2)\n",
    "    \n",
    "    p_0, p_1, p_2, q_0, q_1, q_2 = prob_n\n",
    "    \n",
    "    p_b = 1 - p_0 - p_1 - p_2\n",
    "    q_b = 1 - q_0 - q_1 - q_2\n",
    "    \n",
    "    ##### Benefits\n",
    "    \n",
    "    \n",
    "    pi_1 = (h_1 ** 2 * ( q_1 ** 2 * (1 - 2*c) + 2 * q_1 * (q_0 + q_2) * (1 - c) + q_b ** 2 * (1 - (1 - f_h)**2 - 2 * c) + 2 * q_b * (q_0 + q_2) * (f_h - c) + 2 * q_b * (q_1) * (f_h/2 + 1/2 - 2*c)) +\n",
    "          2 * h_1 * (1-h_1) * ( q_1 * (p_1 + p_b) * (1 - 2*c) + q_1 * (p_0 + p_2) * (1 - c) + q_b * (p_1 + p_b) * (f_h - 2*c) + q_b * (p_0 + p_2) * (f_h - c)) +\n",
    "          (1 - h_1) ** 2 * ( (p_1 + p_b) ** 2 * (- 2*c) + 2 * (p_1 + p_b) * (p_0 + p_2) * (- c))\n",
    "         )\n",
    "    \n",
    "    pi_2 = (h_2 ** 2 * ( q_2 ** 2 * (1 - 2*c) + 2 * q_2 * (q_0 + q_1) * (1 - c) + q_b ** 2 * (1 - (f_h)**2 - 2 * c) + 2 * q_b * (q_0 + q_1) * (1 - f_h - c) + 2 * q_b * (q_2) * ((1 - f_h)/2 + 1/2 - 2*c)) +\n",
    "          2 * h_2 * (1-h_2) * ( q_2 * (p_2 + p_b) * (1 - 2*c) + q_2 * (p_0 + p_1) * (1 - c) + q_b * (p_2 + p_b) * (1 -f_h - 2*c) + q_b * (p_0 + p_1) * (1 - f_h - c)) +\n",
    "          (1 - h_2) ** 2 * ( (p_2 + p_b) ** 2 * (- 2*c) + 2 * (p_2 + p_b) * (p_0 + p_1) * (- c))\n",
    "         )\n",
    "\n",
    "    return pi_1, pi_2"
   ]
  },
  {
   "cell_type": "code",
   "execution_count": 7,
   "id": "15f8a9e8-1a9a-465f-8003-714ccf82cd14",
   "metadata": {},
   "outputs": [],
   "source": [
    "from scipy import optimize"
   ]
  },
  {
   "cell_type": "code",
   "execution_count": 8,
   "id": "95f9f9f7-23a9-4390-9d23-3a0cc9b1417c",
   "metadata": {},
   "outputs": [],
   "source": [
    "def get_reaction(s_2, theta_x, c):\n",
    "    # Get reaction given s_2\n",
    "    result = optimize.minimize(\n",
    "            lambda signal: -get_profits(theta_x, signal, s_2,c)[0],\n",
    "            s_2,\n",
    "            method='Nelder-Mead',\n",
    "            bounds = [(0, 1)],\n",
    "            options={\n",
    "                'maxiter': 1000,    # Maximum number of iterations\n",
    "                'disp': False,       # Display progress\n",
    "                'adaptive': True    # Use adaptive parameters\n",
    "            }\n",
    "        )\n",
    "    return result.x[0]"
   ]
  },
  {
   "cell_type": "code",
   "execution_count": 9,
   "id": "a1c09bdd-0ca4-47af-b4e1-94792985286b",
   "metadata": {},
   "outputs": [],
   "source": [
    "s2_grid = np.linspace(0.05,0.95,100)"
   ]
  },
  {
   "cell_type": "code",
   "execution_count": 10,
   "id": "7b23fe6a-0c89-48a6-b593-ad6dc12cc3d3",
   "metadata": {},
   "outputs": [],
   "source": [
    "c = 0.2"
   ]
  },
  {
   "cell_type": "code",
   "execution_count": 11,
   "id": "28743093-f8e6-490a-bf84-1caed0736267",
   "metadata": {},
   "outputs": [],
   "source": [
    "theta_x = 0.2"
   ]
  },
  {
   "cell_type": "code",
   "execution_count": null,
   "id": "d55c46da-5b33-48e5-afd6-54b170d187e7",
   "metadata": {},
   "outputs": [
    {
     "name": "stderr",
     "output_type": "stream",
     "text": [
      "/tmp/ipykernel_31030/3470100410.py:118: RuntimeWarning: invalid value encountered in scalar divide\n",
      "  f_l = p_b_c1 / ( p_b_c1 + p_b_c2)\n",
      "/tmp/ipykernel_31030/3470100410.py:112: RuntimeWarning: invalid value encountered in scalar divide\n",
      "  h_1 = (theta_x * q_1_n + theta_x * q_b_n) / ( theta_x * q_1_n + (1 - theta_x) * p_1_n + theta_x * q_b_n + (1 - theta_x) * p_b_n)\n"
     ]
    }
   ],
   "source": [
    "reactions = [*map(lambda s2: get_reaction(s2, theta_x, c), s2_grid)]"
   ]
  },
  {
   "cell_type": "code",
   "execution_count": null,
   "id": "96433473-aeba-4666-97b2-ec06a3c89146",
   "metadata": {},
   "outputs": [],
   "source": [
    "plt.plot(s2_grid, s2_grid)\n",
    "plt.plot(s2_grid, reactions)"
   ]
  },
  {
   "cell_type": "code",
   "execution_count": null,
   "id": "8e753f09-add2-4473-8df8-24bc0044f8d3",
   "metadata": {},
   "outputs": [],
   "source": []
  },
  {
   "cell_type": "code",
   "execution_count": null,
   "id": "78d5d873-f605-4918-922d-7d0722b50f64",
   "metadata": {},
   "outputs": [],
   "source": []
  }
 ],
 "metadata": {
  "kernelspec": {
   "display_name": "Python 3 (ipykernel)",
   "language": "python",
   "name": "python3"
  },
  "language_info": {
   "codemirror_mode": {
    "name": "ipython",
    "version": 3
   },
   "file_extension": ".py",
   "mimetype": "text/x-python",
   "name": "python",
   "nbconvert_exporter": "python",
   "pygments_lexer": "ipython3",
   "version": "3.11.6"
  }
 },
 "nbformat": 4,
 "nbformat_minor": 5
}
