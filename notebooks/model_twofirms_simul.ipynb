{
 "cells": [
  {
   "cell_type": "code",
   "execution_count": 1,
   "id": "0df046a9-9299-4cb5-ab5e-47ce775afa89",
   "metadata": {},
   "outputs": [],
   "source": [
    "import numpy as np"
   ]
  },
  {
   "cell_type": "code",
   "execution_count": 2,
   "id": "9c3f5f1a-20e1-44be-858c-60a09cba43b8",
   "metadata": {},
   "outputs": [],
   "source": [
    "import matplotlib.pyplot as plt"
   ]
  },
  {
   "cell_type": "code",
   "execution_count": 3,
   "id": "2d00e4fc-ecb1-4a61-9515-1e629369cff7",
   "metadata": {},
   "outputs": [],
   "source": [
    "import numpy as np\n",
    "from scipy import optimize\n",
    "\n",
    "def compute_utilities(y1, y2, prob, s_1, s_2, theta_x):\n",
    "    p_0, p_1, p_2, q_0, q_1, q_2 = prob\n",
    "    \n",
    "    # Low type utilities\n",
    "    u_0_l = 0\n",
    "    u_1_l = theta_x * ((1 - q_2 - q_0) * 0 + (q_2 + q_0) * y1) + \\\n",
    "            (1 - theta_x) * ((1 - p_2 - p_0) * y1/2 + (p_2 + p_0) * y1) - s_1\n",
    "    \n",
    "    u_2_l = theta_x * ((1 - q_1 - q_0) * 0 + (q_1 + q_0) * y2) + \\\n",
    "            (1 - theta_x) * ((1 - p_1 - p_0) * y2/2 + (p_1 + p_0) * y2) - s_2\n",
    "    \n",
    "    # Both firms utility for low type depends on which value is higher\n",
    "    if y1 > y2:\n",
    "        u_b_l = (theta_x * (q_0 * y1 + q_1 * y2 + q_2 * y1 + (1 - q_0 - q_1 - q_2) * 0) +\n",
    "                (1 - theta_x) * (p_0 * y1 + p_1 * (y1/2 + y2/2) + p_2 * y1 + \n",
    "                               (1 - p_0 - p_1 - p_2) * (y1/2 + y2/4))) - s_1 - s_2\n",
    "    else:\n",
    "        u_b_l = (theta_x * (q_0 * y2 + q_1 * y2 + q_2 * y1 + (1 - q_0 - q_1 - q_2) * 0) +\n",
    "                (1 - theta_x) * (p_0 * y2 + p_1 * y2 + p_2 * (y1/2 + y2/2) + \n",
    "                               (1 - p_0 - p_1 - p_2) * (y2/2 + y1/4))) - s_1 - s_2\n",
    "    \n",
    "    # High type utilities\n",
    "    u_0_h = 0\n",
    "    u_1_h = theta_x * ((1 - q_2 - q_0) * y1/2 + (q_2 + q_0) * y1) + \\\n",
    "            (1 - theta_x) * y1 - s_1\n",
    "    \n",
    "    u_2_h = theta_x * ((1 - q_1 - q_0) * y2/2 + (q_1 + q_0) * y2) + \\\n",
    "            (1 - theta_x) * y2 - s_2\n",
    "    \n",
    "    # Both firms utility for high type\n",
    "    if y1 > y2:\n",
    "        u_b_h = (theta_x * (q_0 * y1 + q_1 * (y1/2 + y2/2) + q_2 * y1 + \n",
    "                          (1 - q_0 - q_1 - q_2) * (y1/2 + y2/4)) +\n",
    "                (1 - theta_x) * y1) - s_1 - s_2\n",
    "    else:\n",
    "        u_b_h = (theta_x * (q_0 * y2 + q_1 * (y2/2 + y1/2) + q_2 * y1 + \n",
    "                          (1 - q_0 - q_1 - q_2) * (y2/2 + y1/4)) +\n",
    "                (1 - theta_x) * y2) - s_1 - s_2\n",
    "    \n",
    "    return [u_0_l, u_1_l, u_2_l, u_b_l], [u_0_h, u_1_h, u_2_h, u_b_h]\n",
    "\n",
    "def find_optimal_choice(y1, y2, prob, s_1, s_2, theta_x):\n",
    "    utils_l, utils_h = compute_utilities(y1, y2, prob, s_1, s_2, theta_x)\n",
    "    choice_l = np.argmax(utils_l)\n",
    "    choice_h = np.argmax(utils_h)\n",
    "    return choice_l, choice_h\n",
    "\n",
    "def compute_equilibrium(prob, s_1, s_2, theta_x, n_samples=1000):\n",
    "    # Sample points uniformly in [0,1] x [0,1]\n",
    "    np.random.seed(42)  # For reproducibility\n",
    "    y1_samples = np.random.uniform(0, 1, n_samples)\n",
    "    y2_samples = np.random.uniform(0, 1, n_samples)\n",
    "    \n",
    "    # Initialize counters for each choice\n",
    "    low_choices = np.zeros(4)  # [0, 1, 2, both]\n",
    "    high_choices = np.zeros(4)\n",
    "    \n",
    "    # Count choices for y1 > y2 and y1 ≤ y2 separately\n",
    "    y1_greater = np.zeros(4)\n",
    "    y1_lesser = np.zeros(4)\n",
    "    \n",
    "    for y1, y2 in zip(y1_samples, y2_samples):\n",
    "        choice_l, choice_h = find_optimal_choice(y1, y2, prob, s_1, s_2, theta_x)\n",
    "        low_choices[choice_l] += 1\n",
    "        high_choices[choice_h] += 1\n",
    "        \n",
    "        # Track choices conditional on y1 > y2 or y1 ≤ y2\n",
    "        if y1 > y2:\n",
    "            if choice_h == 3:  # if chose both\n",
    "                y1_greater[choice_h] += 1\n",
    "        else:\n",
    "            if choice_h == 3:  # if chose both\n",
    "                y1_lesser[choice_h] += 1\n",
    "    \n",
    "    # Normalize to get probabilities\n",
    "    p_0, p_1, p_2, p_b = low_choices / n_samples\n",
    "    q_0, q_1, q_2, q_b = high_choices / n_samples\n",
    "    \n",
    "    # Calculate h_1, h_2 (probability of being high type conditional on applying)\n",
    "    h_1 = (theta_x * (q_1 + q_b)) / (theta_x * (q_1 + q_b) + (1 - theta_x) * (p_1 + p_b))\n",
    "    h_2 = (theta_x * (q_2 + q_b)) / (theta_x * (q_2 + q_b) + (1 - theta_x) * (p_2 + p_b))\n",
    "    \n",
    "    # Calculate f_h (probability of preferring firm 1 being high type conditional on applying to both)\n",
    "    total_both_choices = y1_greater[3] + y1_lesser[3]\n",
    "    f_h = y1_greater[3] / total_both_choices if total_both_choices > 0 else 0\n",
    "    \n",
    "    return [p_0, p_1, p_2, q_0, q_1, q_2], h_1, h_2, f_h\n",
    "\n",
    "def get_profits(theta_x, s_1, s_2, c, prob_init=[1,0,0,1,0,0]):\n",
    "    # Find fixed point of probabilities\n",
    "    prob = prob_init\n",
    "    max_iter = 100\n",
    "    convergence_threshold = 1e-6\n",
    "    \n",
    "    for i in range(max_iter):\n",
    "        prob_n, h_1, h_2, f_h = compute_equilibrium(prob, s_1, s_2, theta_x)\n",
    "        distance = np.linalg.norm(np.array(prob_n) - np.array(prob))\n",
    "        \n",
    "        if distance < convergence_threshold:\n",
    "            break\n",
    "            \n",
    "        prob = prob_n\n",
    "        \n",
    "    # Get final equilibrium values\n",
    "    prob_n, h_1, h_2, f_h = compute_equilibrium(prob, s_1, s_2, theta_x)\n",
    "    p_0, p_1, p_2, q_0, q_1, q_2 = prob_n\n",
    "    \n",
    "    # Compute profits using equilibrium values\n",
    "    p_b = 1 - p_0 - p_1 - p_2\n",
    "    q_b = 1 - q_0 - q_1 - q_2\n",
    "    \n",
    "    pi_1 = (h_1 ** 2 * (q_1 ** 2 * (1 - 2*c) + \n",
    "                        2 * q_1 * (q_0 + q_2) * (1 - c) + \n",
    "                        q_b ** 2 * (1 - (1 - f_h)**2 - 2 * c) + \n",
    "                        2 * q_b * (q_0 + q_2) * (f_h - c) + \n",
    "                        2 * q_b * q_1 * (f_h/2 + 1/2 - 2*c)) +\n",
    "            2 * h_1 * (1-h_1) * (q_1 * (p_1 + p_b) * (1 - 2*c) + \n",
    "                                q_1 * (p_0 + p_2) * (1 - c) + \n",
    "                                q_b * (p_1 + p_b) * (f_h - 2*c) + \n",
    "                                q_b * (p_0 + p_2) * (f_h - c)) +\n",
    "            (1 - h_1) ** 2 * ((p_1 + p_b) ** 2 * (-2*c) + \n",
    "                             2 * (p_1 + p_b) * (p_0 + p_2) * (-c)))\n",
    "    \n",
    "    pi_2 = (h_2 ** 2 * (q_2 ** 2 * (1 - 2*c) + \n",
    "                        2 * q_2 * (q_0 + q_1) * (1 - c) + \n",
    "                        q_b ** 2 * (1 - f_h**2 - 2 * c) + \n",
    "                        2 * q_b * (q_0 + q_1) * (1 - f_h - c) + \n",
    "                        2 * q_b * q_2 * ((1 - f_h)/2 + 1/2 - 2*c)) +\n",
    "            2 * h_2 * (1-h_2) * (q_2 * (p_2 + p_b) * (1 - 2*c) + \n",
    "                                q_2 * (p_0 + p_1) * (1 - c) + \n",
    "                                q_b * (p_2 + p_b) * (1 - f_h - 2*c) + \n",
    "                                q_b * (p_0 + p_1) * (1 - f_h - c)) +\n",
    "            (1 - h_2) ** 2 * ((p_2 + p_b) ** 2 * (-2*c) + \n",
    "                             2 * (p_2 + p_b) * (p_0 + p_1) * (-c)))\n",
    "    \n",
    "    return pi_1, pi_2\n",
    "\n",
    "def get_reaction(s_2, theta_x, c):\n",
    "    \"\"\"Find optimal reaction of firm 1 given firm 2's strategy\"\"\"\n",
    "    result = optimize.minimize(\n",
    "        lambda signal: -get_profits(theta_x, signal[0], s_2, c)[0],\n",
    "        x0=[s_2],\n",
    "        method='Nelder-Mead',\n",
    "        bounds=[(0, 1)],\n",
    "        options={\n",
    "            'maxiter': 1000,\n",
    "            'disp': False,\n",
    "            'adaptive': True\n",
    "        }\n",
    "    )\n",
    "    return result.x[0]"
   ]
  },
  {
   "cell_type": "code",
   "execution_count": null,
   "id": "24782026-8a74-4d10-9189-f44452659ac4",
   "metadata": {},
   "outputs": [],
   "source": []
  },
  {
   "cell_type": "code",
   "execution_count": 4,
   "id": "a1c09bdd-0ca4-47af-b4e1-94792985286b",
   "metadata": {},
   "outputs": [],
   "source": [
    "s2_grid = np.linspace(0.01,0.99,100)"
   ]
  },
  {
   "cell_type": "code",
   "execution_count": 5,
   "id": "7b23fe6a-0c89-48a6-b593-ad6dc12cc3d3",
   "metadata": {},
   "outputs": [],
   "source": [
    "c = 0.2"
   ]
  },
  {
   "cell_type": "code",
   "execution_count": 6,
   "id": "28743093-f8e6-490a-bf84-1caed0736267",
   "metadata": {},
   "outputs": [],
   "source": [
    "theta_x = 0.2"
   ]
  },
  {
   "cell_type": "code",
   "execution_count": 7,
   "id": "c74a20f6-ac24-43aa-916b-eb9a07bb5745",
   "metadata": {},
   "outputs": [
    {
     "data": {
      "text/plain": [
       "0.475"
      ]
     },
     "execution_count": 7,
     "metadata": {},
     "output_type": "execute_result"
    }
   ],
   "source": [
    "get_reaction(0.5, theta_x, c)"
   ]
  },
  {
   "cell_type": "code",
   "execution_count": null,
   "id": "d55c46da-5b33-48e5-afd6-54b170d187e7",
   "metadata": {},
   "outputs": [
    {
     "name": "stderr",
     "output_type": "stream",
     "text": [
      "/tmp/ipykernel_32643/3206232903.py:83: RuntimeWarning: invalid value encountered in scalar divide\n",
      "  h_1 = (theta_x * (q_1 + q_b)) / (theta_x * (q_1 + q_b) + (1 - theta_x) * (p_1 + p_b))\n"
     ]
    }
   ],
   "source": [
    "reactions = [*map(lambda s2: get_reaction(s2, theta_x, c), s2_grid)]"
   ]
  },
  {
   "cell_type": "code",
   "execution_count": null,
   "id": "96433473-aeba-4666-97b2-ec06a3c89146",
   "metadata": {},
   "outputs": [],
   "source": [
    "plt.plot(s2_grid, s2_grid)\n",
    "plt.plot(s2_grid, reactions)"
   ]
  },
  {
   "cell_type": "code",
   "execution_count": null,
   "id": "8e753f09-add2-4473-8df8-24bc0044f8d3",
   "metadata": {},
   "outputs": [],
   "source": []
  },
  {
   "cell_type": "code",
   "execution_count": null,
   "id": "78d5d873-f605-4918-922d-7d0722b50f64",
   "metadata": {},
   "outputs": [],
   "source": []
  }
 ],
 "metadata": {
  "kernelspec": {
   "display_name": "Python 3 (ipykernel)",
   "language": "python",
   "name": "python3"
  },
  "language_info": {
   "codemirror_mode": {
    "name": "ipython",
    "version": 3
   },
   "file_extension": ".py",
   "mimetype": "text/x-python",
   "name": "python",
   "nbconvert_exporter": "python",
   "pygments_lexer": "ipython3",
   "version": "3.11.6"
  }
 },
 "nbformat": 4,
 "nbformat_minor": 5
}
